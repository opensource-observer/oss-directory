{
 "cells": [
  {
   "cell_type": "code",
   "execution_count": 1,
   "metadata": {},
   "outputs": [],
   "source": [
    "# \\\n",
    "import os\n"
   ]
  },
  {
   "cell_type": "code",
   "execution_count": 15,
   "metadata": {},
   "outputs": [],
   "source": [
    "import os\n",
    "import string\n",
    "\n",
    "logos_base = \"logos\"\n",
    "projects_base = \"projects\"\n",
    "\n",
    "# Characters to loop over: 0-9 and a-z\n",
    "characters = list(string.digits + string.ascii_lowercase)\n",
    "\n",
    "for char in characters:\n",
    "    logo_dir = os.path.join(logos_base, char)\n",
    "    \n",
    "    if not os.path.exists(logo_dir):\n",
    "        continue\n",
    "\n",
    "    for filename in os.listdir(logo_dir):\n",
    "        if not filename.lower().endswith(('.png', '.jpg', '.jpeg', '.svg', '.webp')):\n",
    "            continue\n",
    "\n",
    "        name, _ = os.path.splitext(filename)\n",
    "        expected_yaml = os.path.join(projects_base, char, f\"{name}.yaml\")\n",
    "\n",
    "        if not os.path.isfile(expected_yaml):\n",
    "            print(f\"No matching project file for logo: {os.path.join(logo_dir, filename)}\")\n"
   ]
  }
 ],
 "metadata": {
  "kernelspec": {
   "display_name": ".venv",
   "language": "python",
   "name": "python3"
  },
  "language_info": {
   "codemirror_mode": {
    "name": "ipython",
    "version": 3
   },
   "file_extension": ".py",
   "mimetype": "text/x-python",
   "name": "python",
   "nbconvert_exporter": "python",
   "pygments_lexer": "ipython3",
   "version": "3.12.7"
  }
 },
 "nbformat": 4,
 "nbformat_minor": 2
}
